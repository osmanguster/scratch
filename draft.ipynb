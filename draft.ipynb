{
 "cells": [
  {
   "cell_type": "code",
   "execution_count": null,
   "metadata": {},
   "outputs": [],
   "source": []
  },
  {
   "cell_type": "markdown",
   "metadata": {},
   "source": [
    "# Introduction to Quantum Circuits"
   ]
  },
  {
   "cell_type": "markdown",
   "metadata": {},
   "source": [
    "## 1. Background\n",
    "\n",
    "### 1.1 Classical Computation\n",
    "At the most fundamental level of our everyday classical computers, information is stored in bits, short for binary digits. They are reffered to as \"Binary\" because of two possible states, 0 or 1, at any given time. To perform a computation on some input bits, we use logic gates that implement some function to produce an output. Nowadays, the processors in our computers, phones and other devices perform operations on many bits stored in memory. Looking into a modern processor, we can see many different sections, but the main point is drawn from the physical implementations of the bits themselves. They are small, nano-meter scale transistors that turn on and off, which correspond to the two logic levels of 1 and 0.\n",
    "\n",
    "insert image [1] \n",
    "\n",
    "The physics of classical computers has ever since been defined by classical electrodynamics, and the realization of them today has been built upon by engineers and computer scientists. However, the past few decades has seen the emergence of quantum information science, where quantum mechanical effects in information theory are studied. Researchers cover problems ranging from \"Does a quantum computer even have an advantage over a classical computer?\" to \"How do we implement a 100 qubit quantum processor with negligble noise?\"\n",
    "\n",
    "### 1.2 Quantum Computation\n"
   ]
  }
 ],
 "metadata": {
  "kernelspec": {
   "display_name": "Python 3",
   "language": "python",
   "name": "python3"
  },
  "language_info": {
   "codemirror_mode": {
    "name": "ipython",
    "version": 3
   },
   "file_extension": ".py",
   "mimetype": "text/x-python",
   "name": "python",
   "nbconvert_exporter": "python",
   "pygments_lexer": "ipython3",
   "version": "3.7.0"
  }
 },
 "nbformat": 4,
 "nbformat_minor": 2
}
